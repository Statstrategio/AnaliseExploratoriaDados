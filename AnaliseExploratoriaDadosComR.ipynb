{
  "nbformat": 4,
  "nbformat_minor": 0,
  "metadata": {
    "colab": {
      "provenance": [],
      "authorship_tag": "ABX9TyOfxqjgDvqv9huzCtoYr3oT",
      "include_colab_link": true
    },
    "kernelspec": {
      "name": "ir",
      "display_name": "R"
    },
    "language_info": {
      "name": "R"
    }
  },
  "cells": [
    {
      "cell_type": "markdown",
      "metadata": {
        "id": "view-in-github",
        "colab_type": "text"
      },
      "source": [
        "<a href=\"https://colab.research.google.com/github/Statstrategio/AnaliseExploratoriaDados/blob/main/AnaliseExploratoriaDadosComR.ipynb\" target=\"_parent\"><img src=\"https://colab.research.google.com/assets/colab-badge.svg\" alt=\"Open In Colab\"/></a>"
      ]
    },
    {
      "cell_type": "markdown",
      "source": [
        "# Análise Exploratória dos Dados com R\n",
        "___"
      ],
      "metadata": {
        "id": "jOJISHQqKkEz"
      }
    },
    {
      "cell_type": "markdown",
      "source": [
        "## Introdução\n",
        "\n",
        "Saber fazer uma Análise Exploratória dos Dados nos habilita a extrair informações de extensos conjuntos de dados. Hoje em dia, com a digitalização e internet, é possível obter conjuntos de dados sobre os mais diversos temas. No Brasil, a Lei da Transparência (LC 131/2009) é um incentivo à participação popular, seja pessoa física ou jurídica, na execução orçamentária e financeira e demais informações da União, Estados, Distrito Federal e Municípios por garantir a disponibilização, em tempo real, de informações pormenorizadas. Já a Lei de Acesso à Informação (Lei nº 12.527 18/11/2011) garante o acesso à informações de interesse público. Tais leis são instrumentos de cidadania por favorecerem a participação de cidadãos na política e na administração pública. Bora aprender a extrair informações dos dados que podemos ter acesso.\n"
      ],
      "metadata": {
        "id": "HuH8aoHuKF0W"
      }
    },
    {
      "cell_type": "markdown",
      "source": [
        "## Dados\n",
        "\n",
        "Vamos utilizar uma base de dados do [Sistema de Registro Nacional Migratório da Polícia Federal](https://dados.gov.br/dados/conjuntos-dados/sismigra) disponível no [Portal Brasileiro de Dados Abertos](https://dados.gov.br/home). A base de dados é referente ao número de registros ativos de estrangeiros registrados no Brasil.\n",
        "\n",
        "Para acessar os arquivos com os dados deve-se clicar em [descrição](https://servicos.dpf.gov.br/dadosabertos/SISMIGRA/). Os dados estão em arquivos do tipo `.csv`, cada arquivo contém os dados de um mês."
      ],
      "metadata": {
        "id": "EkKW4F6CLoc-"
      }
    },
    {
      "cell_type": "markdown",
      "source": [
        "### Importação das planilhas"
      ],
      "metadata": {
        "id": "OBKOdQ6pNGbd"
      }
    }
  ]
}
